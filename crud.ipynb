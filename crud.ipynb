{
 "cells": [
  {
   "cell_type": "code",
   "execution_count": 2,
   "id": "f656ee8b",
   "metadata": {},
   "outputs": [
    {
     "name": "stdout",
     "output_type": "stream",
     "text": [
      "Requirement already satisfied: pyspark in d:\\python\\lib\\site-packages (3.5.5)\n",
      "Requirement already satisfied: py4j==0.10.9.7 in d:\\python\\lib\\site-packages (from pyspark) (0.10.9.7)\n"
     ]
    }
   ],
   "source": [
    "!pip install pyspark"
   ]
  },
  {
   "cell_type": "markdown",
   "id": "83463556",
   "metadata": {},
   "source": [
    "### PySpark CRUD operation"
   ]
  },
  {
   "cell_type": "markdown",
   "id": "c11b1edd",
   "metadata": {},
   "source": [
    "Create (Insert)"
   ]
  },
  {
   "cell_type": "code",
   "execution_count": 3,
   "id": "39a35b00",
   "metadata": {},
   "outputs": [],
   "source": [
    "from pyspark.sql import SparkSession\n",
    "from pyspark.sql.functions import *\n",
    "spark = SparkSession.builder.appName(\"COVID crud\").getOrCreate()"
   ]
  },
  {
   "cell_type": "markdown",
   "id": "1a3441b7",
   "metadata": {},
   "source": [
    "Load and Read Data"
   ]
  },
  {
   "cell_type": "code",
   "execution_count": 4,
   "id": "6c82d4ad",
   "metadata": {},
   "outputs": [
    {
     "name": "stdout",
     "output_type": "stream",
     "text": [
      "+-------------------+---------+------+---------+------+---------+----------+-------------+------------------+---------------------+----------------------+-------------------+-------------+-----------------+--------------------+\n",
      "|     Country/Region|Confirmed|Deaths|Recovered|Active|New cases|New deaths|New recovered|Deaths / 100 Cases|Recovered / 100 Cases|Deaths / 100 Recovered|Confirmed last week|1 week change|1 week % increase|          WHO Region|\n",
      "+-------------------+---------+------+---------+------+---------+----------+-------------+------------------+---------------------+----------------------+-------------------+-------------+-----------------+--------------------+\n",
      "|        Afghanistan|    36263|  1269|    25198|  9796|      106|        10|           18|               3.5|                69.49|                  5.04|              35526|          737|             2.07|Eastern Mediterra...|\n",
      "|            Albania|     4880|   144|     2745|  1991|      117|         6|           63|              2.95|                56.25|                  5.25|               4171|          709|             17.0|              Europe|\n",
      "|            Algeria|    27973|  1163|    18837|  7973|      616|         8|          749|              4.16|                67.34|                  6.17|              23691|         4282|            18.07|              Africa|\n",
      "|            Andorra|      907|    52|      803|    52|       10|         0|            0|              5.73|                88.53|                  6.48|                884|           23|              2.6|              Europe|\n",
      "|             Angola|      950|    41|      242|   667|       18|         1|            0|              4.32|                25.47|                 16.94|                749|          201|            26.84|              Africa|\n",
      "|Antigua and Barbuda|       86|     3|       65|    18|        4|         0|            5|              3.49|                75.58|                  4.62|                 76|           10|            13.16|            Americas|\n",
      "|          Argentina|   167416|  3059|    72575| 91782|     4890|       120|         2057|              1.83|                43.35|                  4.21|             130774|        36642|            28.02|            Americas|\n",
      "|            Armenia|    37390|   711|    26665| 10014|       73|         6|          187|               1.9|                71.32|                  2.67|              34981|         2409|             6.89|              Europe|\n",
      "|          Australia|    15303|   167|     9311|  5825|      368|         6|          137|              1.09|                60.84|                  1.79|              12428|         2875|            23.13|     Western Pacific|\n",
      "|            Austria|    20558|   713|    18246|  1599|       86|         1|           37|              3.47|                88.75|                  3.91|              19743|          815|             4.13|              Europe|\n",
      "|         Azerbaijan|    30446|   423|    23242|  6781|      396|         6|          558|              1.39|                76.34|                  1.82|              27890|         2556|             9.16|              Europe|\n",
      "|            Bahamas|      382|    11|       91|   280|       40|         0|            0|              2.88|                23.82|                 12.09|                174|          208|           119.54|            Americas|\n",
      "|            Bahrain|    39482|   141|    36110|  3231|      351|         1|          421|              0.36|                91.46|                  0.39|              36936|         2546|             6.89|Eastern Mediterra...|\n",
      "|         Bangladesh|   226225|  2965|   125683| 97577|     2772|        37|         1801|              1.31|                55.56|                  2.36|             207453|        18772|             9.05|     South-East Asia|\n",
      "|           Barbados|      110|     7|       94|     9|        0|         0|            0|              6.36|                85.45|                  7.45|                106|            4|             3.77|            Americas|\n",
      "|            Belarus|    67251|   538|    60492|  6221|      119|         4|           67|               0.8|                89.95|                  0.89|              66213|         1038|             1.57|              Europe|\n",
      "|            Belgium|    66428|  9822|    17452| 39154|      402|         1|           14|             14.79|                26.27|                 56.28|              64094|         2334|             3.64|              Europe|\n",
      "|             Belize|       48|     2|       26|    20|        0|         0|            0|              4.17|                54.17|                  7.69|                 40|            8|             20.0|            Americas|\n",
      "|              Benin|     1770|    35|     1036|   699|        0|         0|            0|              1.98|                58.53|                  3.38|               1602|          168|            10.49|              Africa|\n",
      "|             Bhutan|       99|     0|       86|    13|        4|         0|            1|               0.0|                86.87|                   0.0|                 90|            9|             10.0|     South-East Asia|\n",
      "+-------------------+---------+------+---------+------+---------+----------+-------------+------------------+---------------------+----------------------+-------------------+-------------+-----------------+--------------------+\n",
      "only showing top 20 rows\n",
      "\n"
     ]
    }
   ],
   "source": [
    "df = spark.read.option(\"header\" , True).csv(\"D:\\projects\\BL_DE_Digit Insurance\\PostgressSQL\\data\\country_wise_latest.csv\")\n",
    "df.show()"
   ]
  },
  {
   "cell_type": "markdown",
   "id": "19621098",
   "metadata": {},
   "source": [
    "Query Data"
   ]
  },
  {
   "cell_type": "code",
   "execution_count": 5,
   "id": "cfeece64",
   "metadata": {},
   "outputs": [
    {
     "name": "stdout",
     "output_type": "stream",
     "text": [
      "+--------------------+--------------------+---------+\n",
      "|      Country/Region|          WHO Region|Confirmed|\n",
      "+--------------------+--------------------+---------+\n",
      "|         Afghanistan|Eastern Mediterra...|    36263|\n",
      "|             Albania|              Europe|     4880|\n",
      "|             Algeria|              Africa|    27973|\n",
      "|           Argentina|            Americas|   167416|\n",
      "|             Armenia|              Europe|    37390|\n",
      "|           Australia|     Western Pacific|    15303|\n",
      "|             Austria|              Europe|    20558|\n",
      "|          Azerbaijan|              Europe|    30446|\n",
      "|             Bahrain|Eastern Mediterra...|    39482|\n",
      "|          Bangladesh|     South-East Asia|   226225|\n",
      "|             Belarus|              Europe|    67251|\n",
      "|             Belgium|              Europe|    66428|\n",
      "|               Benin|              Africa|     1770|\n",
      "|             Bolivia|            Americas|    71181|\n",
      "|Bosnia and Herzeg...|              Europe|    10498|\n",
      "|              Brazil|            Americas|  2442375|\n",
      "|            Bulgaria|              Europe|    10621|\n",
      "|        Burkina Faso|              Africa|     1100|\n",
      "|          Cabo Verde|              Africa|     2328|\n",
      "|            Cameroon|              Africa|    17110|\n",
      "+--------------------+--------------------+---------+\n",
      "only showing top 20 rows\n",
      "\n"
     ]
    }
   ],
   "source": [
    "df.filter(\"Confirmed > 1000\").select([\"Country/Region\" , \"WHO Region\" , \"Confirmed\"]).show()"
   ]
  },
  {
   "cell_type": "markdown",
   "id": "9be1db0f",
   "metadata": {},
   "source": [
    "Update Data"
   ]
  },
  {
   "cell_type": "code",
   "execution_count": 6,
   "id": "dab10c0f",
   "metadata": {},
   "outputs": [
    {
     "name": "stdout",
     "output_type": "stream",
     "text": [
      "+-------------------+---------+------+---------+------+---------+----------+-------------+------------------+---------------------+----------------------+-------------------+-------------+-----------------+--------------------+\n",
      "|     Country/Region|Confirmed|Deaths|Recovered|Active|New cases|New deaths|New recovered|Deaths / 100 Cases|Recovered / 100 Cases|Deaths / 100 Recovered|Confirmed last week|1 week change|1 week % increase|          WHO Region|\n",
      "+-------------------+---------+------+---------+------+---------+----------+-------------+------------------+---------------------+----------------------+-------------------+-------------+-----------------+--------------------+\n",
      "|        Afghanistan|    36263|  1269|    25198|  9796|      106|        10|           18|               3.5|                69.49|                  5.04|              35526|          737|             2.07|Eastern Mediterra...|\n",
      "|            Albania|     4880|   144|     2745|  1991|      117|         6|           63|              2.95|                56.25|                  5.25|               4171|          709|             17.0|              Europe|\n",
      "|            Algeria|    27973|  1163|    18837|  7973|      616|         8|          749|              4.16|                67.34|                  6.17|              23691|         4282|            18.07|              Africa|\n",
      "|            Andorra|      907|    52|      803|    52|       10|         0|            0|              5.73|                88.53|                  6.48|                884|           23|              2.6|              Europe|\n",
      "|             Angola|      950|    41|      242|   667|       18|         1|            0|              4.32|                25.47|                 16.94|                749|          201|            26.84|              Africa|\n",
      "|Antigua and Barbuda|       86|     3|       65|    18|        4|         0|            5|              3.49|                75.58|                  4.62|                 76|           10|            13.16|            Americas|\n",
      "|          Argentina|   167416|  3059|    72575| 91782|     4890|       120|         2057|              1.83|                43.35|                  4.21|             130774|        36642|            28.02|            Americas|\n",
      "|            Armenia|    37390|   711|    26665| 10014|       73|         6|          187|               1.9|                71.32|                  2.67|              34981|         2409|             6.89|              Europe|\n",
      "|          Australia|    15303|   167|     9311|  5825|      368|         6|          137|              1.09|                60.84|                  1.79|              12428|         2875|            23.13|     Western Pacific|\n",
      "|            Austria|    20558|   713|    18246|  1599|       86|         1|           37|              3.47|                88.75|                  3.91|              19743|          815|             4.13|              Europe|\n",
      "|         Azerbaijan|    30446|   423|    23242|  6781|      396|         6|          558|              1.39|                76.34|                  1.82|              27890|         2556|             9.16|              Europe|\n",
      "|            Bahamas|      382|    11|       91|   280|       40|         0|            0|              2.88|                23.82|                 12.09|                174|          208|           119.54|            Americas|\n",
      "|            Bahrain|    39482|   141|    36110|  3231|      351|         1|          421|              0.36|                91.46|                  0.39|              36936|         2546|             6.89|Eastern Mediterra...|\n",
      "|         Bangladesh|   226225|  2965|   125683| 97577|     2772|        37|         1801|              1.31|                55.56|                  2.36|             207453|        18772|             9.05|     South-East Asia|\n",
      "|           Barbados|      110|     7|       94|     9|        0|         0|            0|              6.36|                85.45|                  7.45|                106|            4|             3.77|            Americas|\n",
      "|            Belarus|    67251|   538|    60492|  6221|      119|         4|           67|               0.8|                89.95|                  0.89|              66213|         1038|             1.57|              Europe|\n",
      "|            Belgium|    66428|  9822|    17452| 39154|      402|         1|           14|             14.79|                26.27|                 56.28|              64094|         2334|             3.64|              Europe|\n",
      "|             Belize|       48|     2|       26|    20|        0|         0|            0|              4.17|                54.17|                  7.69|                 40|            8|             20.0|            Americas|\n",
      "|              Benin|     1770|    35|     1036|   699|        0|         0|            0|              1.98|                58.53|                  3.38|               1602|          168|            10.49|              Africa|\n",
      "|             Bhutan|       99|     0|       86|    13|        4|         0|            1|               0.0|                86.87|                   0.0|                 90|            9|             10.0|     South-East Asia|\n",
      "+-------------------+---------+------+---------+------+---------+----------+-------------+------------------+---------------------+----------------------+-------------------+-------------+-----------------+--------------------+\n",
      "only showing top 20 rows\n",
      "\n"
     ]
    }
   ],
   "source": [
    "updated_df = df.withColumn(\"Deaths\" , when(col(\"Deaths\") == 100 , 41).otherwise(col(\"Deaths\")))\n",
    "updated_df.show()"
   ]
  },
  {
   "cell_type": "markdown",
   "id": "2cc514eb",
   "metadata": {},
   "source": [
    "Delete Data (Cannot delete but we can aggregate the unwanted data)"
   ]
  },
  {
   "cell_type": "code",
   "execution_count": 7,
   "id": "067c6cb0",
   "metadata": {},
   "outputs": [
    {
     "name": "stdout",
     "output_type": "stream",
     "text": [
      "+--------------+---------+------+---------+------+---------+----------+-------------+------------------+---------------------+----------------------+-------------------+-------------+-----------------+--------------------+\n",
      "|Country/Region|Confirmed|Deaths|Recovered|Active|New cases|New deaths|New recovered|Deaths / 100 Cases|Recovered / 100 Cases|Deaths / 100 Recovered|Confirmed last week|1 week change|1 week % increase|          WHO Region|\n",
      "+--------------+---------+------+---------+------+---------+----------+-------------+------------------+---------------------+----------------------+-------------------+-------------+-----------------+--------------------+\n",
      "|   Afghanistan|    36263|  1269|    25198|  9796|      106|        10|           18|               3.5|                69.49|                  5.04|              35526|          737|             2.07|Eastern Mediterra...|\n",
      "+--------------+---------+------+---------+------+---------+----------+-------------+------------------+---------------------+----------------------+-------------------+-------------+-----------------+--------------------+\n",
      "\n"
     ]
    }
   ],
   "source": [
    "df_filtered = df.filter(col(\"Country/Region\") == \"Afghanistan\").show()"
   ]
  },
  {
   "cell_type": "markdown",
   "id": "f24bf1c3",
   "metadata": {},
   "source": [
    "Rename Column"
   ]
  },
  {
   "cell_type": "code",
   "execution_count": 8,
   "id": "05366ece",
   "metadata": {},
   "outputs": [
    {
     "name": "stdout",
     "output_type": "stream",
     "text": [
      "+-------------------+---------+------+---------+------+---------+----------+-------------+------------------+---------------------+----------------------+-------------------+-------------+-----------------+--------------------+\n",
      "|     Country_Region|Confirmed|Deaths|Recovered|Active|New cases|New deaths|New recovered|Deaths / 100 Cases|Recovered / 100 Cases|Deaths / 100 Recovered|Confirmed last week|1 week change|1 week % increase|          WHO Region|\n",
      "+-------------------+---------+------+---------+------+---------+----------+-------------+------------------+---------------------+----------------------+-------------------+-------------+-----------------+--------------------+\n",
      "|        Afghanistan|    36263|  1269|    25198|  9796|      106|        10|           18|               3.5|                69.49|                  5.04|              35526|          737|             2.07|Eastern Mediterra...|\n",
      "|            Albania|     4880|   144|     2745|  1991|      117|         6|           63|              2.95|                56.25|                  5.25|               4171|          709|             17.0|              Europe|\n",
      "|            Algeria|    27973|  1163|    18837|  7973|      616|         8|          749|              4.16|                67.34|                  6.17|              23691|         4282|            18.07|              Africa|\n",
      "|            Andorra|      907|    52|      803|    52|       10|         0|            0|              5.73|                88.53|                  6.48|                884|           23|              2.6|              Europe|\n",
      "|             Angola|      950|    41|      242|   667|       18|         1|            0|              4.32|                25.47|                 16.94|                749|          201|            26.84|              Africa|\n",
      "|Antigua and Barbuda|       86|     3|       65|    18|        4|         0|            5|              3.49|                75.58|                  4.62|                 76|           10|            13.16|            Americas|\n",
      "|          Argentina|   167416|  3059|    72575| 91782|     4890|       120|         2057|              1.83|                43.35|                  4.21|             130774|        36642|            28.02|            Americas|\n",
      "|            Armenia|    37390|   711|    26665| 10014|       73|         6|          187|               1.9|                71.32|                  2.67|              34981|         2409|             6.89|              Europe|\n",
      "|          Australia|    15303|   167|     9311|  5825|      368|         6|          137|              1.09|                60.84|                  1.79|              12428|         2875|            23.13|     Western Pacific|\n",
      "|            Austria|    20558|   713|    18246|  1599|       86|         1|           37|              3.47|                88.75|                  3.91|              19743|          815|             4.13|              Europe|\n",
      "|         Azerbaijan|    30446|   423|    23242|  6781|      396|         6|          558|              1.39|                76.34|                  1.82|              27890|         2556|             9.16|              Europe|\n",
      "|            Bahamas|      382|    11|       91|   280|       40|         0|            0|              2.88|                23.82|                 12.09|                174|          208|           119.54|            Americas|\n",
      "|            Bahrain|    39482|   141|    36110|  3231|      351|         1|          421|              0.36|                91.46|                  0.39|              36936|         2546|             6.89|Eastern Mediterra...|\n",
      "|         Bangladesh|   226225|  2965|   125683| 97577|     2772|        37|         1801|              1.31|                55.56|                  2.36|             207453|        18772|             9.05|     South-East Asia|\n",
      "|           Barbados|      110|     7|       94|     9|        0|         0|            0|              6.36|                85.45|                  7.45|                106|            4|             3.77|            Americas|\n",
      "|            Belarus|    67251|   538|    60492|  6221|      119|         4|           67|               0.8|                89.95|                  0.89|              66213|         1038|             1.57|              Europe|\n",
      "|            Belgium|    66428|  9822|    17452| 39154|      402|         1|           14|             14.79|                26.27|                 56.28|              64094|         2334|             3.64|              Europe|\n",
      "|             Belize|       48|     2|       26|    20|        0|         0|            0|              4.17|                54.17|                  7.69|                 40|            8|             20.0|            Americas|\n",
      "|              Benin|     1770|    35|     1036|   699|        0|         0|            0|              1.98|                58.53|                  3.38|               1602|          168|            10.49|              Africa|\n",
      "|             Bhutan|       99|     0|       86|    13|        4|         0|            1|               0.0|                86.87|                   0.0|                 90|            9|             10.0|     South-East Asia|\n",
      "+-------------------+---------+------+---------+------+---------+----------+-------------+------------------+---------------------+----------------------+-------------------+-------------+-----------------+--------------------+\n",
      "only showing top 20 rows\n",
      "\n"
     ]
    }
   ],
   "source": [
    "df_renamed = df.withColumnRenamed(\"Country/Region\" , \"Country_Region\").show()"
   ]
  },
  {
   "cell_type": "markdown",
   "id": "9088e278",
   "metadata": {},
   "source": [
    "Drop The Column"
   ]
  },
  {
   "cell_type": "code",
   "execution_count": 9,
   "id": "f7fafd7d",
   "metadata": {},
   "outputs": [
    {
     "name": "stdout",
     "output_type": "stream",
     "text": [
      "+-------------------+---------+------+---------+------+---------+----------+-------------+------------------+---------------------+----------------------+-------------------+-----------------+--------------------+\n",
      "|     Country/Region|Confirmed|Deaths|Recovered|Active|New cases|New deaths|New recovered|Deaths / 100 Cases|Recovered / 100 Cases|Deaths / 100 Recovered|Confirmed last week|1 week % increase|          WHO Region|\n",
      "+-------------------+---------+------+---------+------+---------+----------+-------------+------------------+---------------------+----------------------+-------------------+-----------------+--------------------+\n",
      "|        Afghanistan|    36263|  1269|    25198|  9796|      106|        10|           18|               3.5|                69.49|                  5.04|              35526|             2.07|Eastern Mediterra...|\n",
      "|            Albania|     4880|   144|     2745|  1991|      117|         6|           63|              2.95|                56.25|                  5.25|               4171|             17.0|              Europe|\n",
      "|            Algeria|    27973|  1163|    18837|  7973|      616|         8|          749|              4.16|                67.34|                  6.17|              23691|            18.07|              Africa|\n",
      "|            Andorra|      907|    52|      803|    52|       10|         0|            0|              5.73|                88.53|                  6.48|                884|              2.6|              Europe|\n",
      "|             Angola|      950|    41|      242|   667|       18|         1|            0|              4.32|                25.47|                 16.94|                749|            26.84|              Africa|\n",
      "|Antigua and Barbuda|       86|     3|       65|    18|        4|         0|            5|              3.49|                75.58|                  4.62|                 76|            13.16|            Americas|\n",
      "|          Argentina|   167416|  3059|    72575| 91782|     4890|       120|         2057|              1.83|                43.35|                  4.21|             130774|            28.02|            Americas|\n",
      "|            Armenia|    37390|   711|    26665| 10014|       73|         6|          187|               1.9|                71.32|                  2.67|              34981|             6.89|              Europe|\n",
      "|          Australia|    15303|   167|     9311|  5825|      368|         6|          137|              1.09|                60.84|                  1.79|              12428|            23.13|     Western Pacific|\n",
      "|            Austria|    20558|   713|    18246|  1599|       86|         1|           37|              3.47|                88.75|                  3.91|              19743|             4.13|              Europe|\n",
      "|         Azerbaijan|    30446|   423|    23242|  6781|      396|         6|          558|              1.39|                76.34|                  1.82|              27890|             9.16|              Europe|\n",
      "|            Bahamas|      382|    11|       91|   280|       40|         0|            0|              2.88|                23.82|                 12.09|                174|           119.54|            Americas|\n",
      "|            Bahrain|    39482|   141|    36110|  3231|      351|         1|          421|              0.36|                91.46|                  0.39|              36936|             6.89|Eastern Mediterra...|\n",
      "|         Bangladesh|   226225|  2965|   125683| 97577|     2772|        37|         1801|              1.31|                55.56|                  2.36|             207453|             9.05|     South-East Asia|\n",
      "|           Barbados|      110|     7|       94|     9|        0|         0|            0|              6.36|                85.45|                  7.45|                106|             3.77|            Americas|\n",
      "|            Belarus|    67251|   538|    60492|  6221|      119|         4|           67|               0.8|                89.95|                  0.89|              66213|             1.57|              Europe|\n",
      "|            Belgium|    66428|  9822|    17452| 39154|      402|         1|           14|             14.79|                26.27|                 56.28|              64094|             3.64|              Europe|\n",
      "|             Belize|       48|     2|       26|    20|        0|         0|            0|              4.17|                54.17|                  7.69|                 40|             20.0|            Americas|\n",
      "|              Benin|     1770|    35|     1036|   699|        0|         0|            0|              1.98|                58.53|                  3.38|               1602|            10.49|              Africa|\n",
      "|             Bhutan|       99|     0|       86|    13|        4|         0|            1|               0.0|                86.87|                   0.0|                 90|             10.0|     South-East Asia|\n",
      "+-------------------+---------+------+---------+------+---------+----------+-------------+------------------+---------------------+----------------------+-------------------+-----------------+--------------------+\n",
      "only showing top 20 rows\n",
      "\n"
     ]
    }
   ],
   "source": [
    "df_dropped = df.drop(\"1 week change\").show()"
   ]
  },
  {
   "cell_type": "markdown",
   "id": "24595090",
   "metadata": {},
   "source": [
    "Change the Data Type"
   ]
  },
  {
   "cell_type": "code",
   "execution_count": 10,
   "id": "9bbb2027",
   "metadata": {},
   "outputs": [],
   "source": [
    "df_typecase = df.withColumn(\"Deaths\" , col(\"Deaths\").cast(\"int\"))"
   ]
  },
  {
   "cell_type": "code",
   "execution_count": 11,
   "id": "6d0eaf0e",
   "metadata": {},
   "outputs": [
    {
     "name": "stdout",
     "output_type": "stream",
     "text": [
      "root\n",
      " |-- Country/Region: string (nullable = true)\n",
      " |-- Confirmed: string (nullable = true)\n",
      " |-- Deaths: integer (nullable = true)\n",
      " |-- Recovered: string (nullable = true)\n",
      " |-- Active: string (nullable = true)\n",
      " |-- New cases: string (nullable = true)\n",
      " |-- New deaths: string (nullable = true)\n",
      " |-- New recovered: string (nullable = true)\n",
      " |-- Deaths / 100 Cases: string (nullable = true)\n",
      " |-- Recovered / 100 Cases: string (nullable = true)\n",
      " |-- Deaths / 100 Recovered: string (nullable = true)\n",
      " |-- Confirmed last week: string (nullable = true)\n",
      " |-- 1 week change: string (nullable = true)\n",
      " |-- 1 week % increase: string (nullable = true)\n",
      " |-- WHO Region: string (nullable = true)\n",
      "\n"
     ]
    }
   ],
   "source": [
    "df_typecase.printSchema()"
   ]
  },
  {
   "cell_type": "code",
   "execution_count": 12,
   "id": "90b10071",
   "metadata": {},
   "outputs": [
    {
     "name": "stdout",
     "output_type": "stream",
     "text": [
      "+--------------------+---------+------+---------+-------+---------+----------+-------------+------------------+---------------------+----------------------+-------------------+-------------+-----------------+--------------------+\n",
      "|      Country/Region|Confirmed|Deaths|Recovered| Active|New cases|New deaths|New recovered|Deaths / 100 Cases|Recovered / 100 Cases|Deaths / 100 Recovered|Confirmed last week|1 week change|1 week % increase|          WHO Region|\n",
      "+--------------------+---------+------+---------+-------+---------+----------+-------------+------------------+---------------------+----------------------+-------------------+-------------+-----------------+--------------------+\n",
      "|            Zimbabwe|     2704|    36|      542|   2126|      192|         2|           24|              1.33|                20.04|                  6.64|               1713|          991|            57.85|              Africa|\n",
      "|              Zambia|     4552|   140|     2815|   1597|       71|         1|          465|              3.08|                61.84|                  4.97|               3326|         1226|            36.86|              Africa|\n",
      "|               Yemen|     1691|   483|      833|    375|       10|         4|           36|             28.56|                49.26|                 57.98|               1619|           72|             4.45|Eastern Mediterra...|\n",
      "|      Western Sahara|       10|     1|        8|      1|        0|         0|            0|              10.0|                 80.0|                  12.5|                 10|            0|              0.0|              Africa|\n",
      "|  West Bank and Gaza|    10621|    78|     3752|   6791|      152|         2|            0|              0.73|                35.33|                  2.08|               8916|         1705|            19.12|Eastern Mediterra...|\n",
      "|             Vietnam|      431|     0|      365|     66|       11|         0|            0|               0.0|                84.69|                   0.0|                384|           47|            12.24|     Western Pacific|\n",
      "|           Venezuela|    15988|   146|     9959|   5883|      525|         4|          213|              0.91|                62.29|                  1.47|              12334|         3654|            29.63|            Americas|\n",
      "|          Uzbekistan|    21209|   121|    11674|   9414|      678|         5|          569|              0.57|                55.04|                  1.04|              17149|         4060|            23.67|              Europe|\n",
      "|             Uruguay|     1202|    35|      951|    216|       10|         1|            3|              2.91|                79.12|                  3.68|               1064|          138|            12.97|            Americas|\n",
      "|      United Kingdom|   301708| 45844|     1437| 254427|      688|         7|            3|             15.19|                 0.48|               3190.26|             296944|         4764|              1.6|              Europe|\n",
      "|United Arab Emirates|    59177|   345|    52510|   6322|      264|         1|          328|              0.58|                88.73|                  0.66|              57193|         1984|             3.47|Eastern Mediterra...|\n",
      "|             Ukraine|    67096|  1636|    37202|  28258|      835|        11|          317|              2.44|                55.45|                   4.4|              60767|         6329|            10.42|              Europe|\n",
      "|              Uganda|     1128|     2|      986|    140|       13|         0|            4|              0.18|                87.41|                   0.2|               1069|           59|             5.52|              Africa|\n",
      "|                  US|  4290259|148011|  1325804|2816444|    56336|      1076|        27941|              3.45|                 30.9|                 11.16|            3834677|       455582|            11.88|            Americas|\n",
      "|              Turkey|   227019|  5630|   210469|  10920|      919|        17|          982|              2.48|                92.71|                  2.67|             220572|         6447|             2.92|              Europe|\n",
      "|             Tunisia|     1455|    50|     1157|    248|        3|         0|           15|              3.44|                79.52|                  4.32|               1381|           74|             5.36|Eastern Mediterra...|\n",
      "| Trinidad and Tobago|      148|     8|      128|     12|        1|         0|            0|              5.41|                86.49|                  6.25|                137|           11|             8.03|            Americas|\n",
      "|                Togo|      874|    18|      607|    249|        6|         0|            8|              2.06|                69.45|                  2.97|                783|           91|            11.62|              Africa|\n",
      "|         Timor-Leste|       24|     0|        0|     24|        0|         0|            0|               0.0|                  0.0|                   0.0|                 24|            0|              0.0|     South-East Asia|\n",
      "|            Thailand|     3297|    58|     3111|    128|        6|         0|            2|              1.76|                94.36|                  1.86|               3250|           47|             1.45|     South-East Asia|\n",
      "+--------------------+---------+------+---------+-------+---------+----------+-------------+------------------+---------------------+----------------------+-------------------+-------------+-----------------+--------------------+\n",
      "only showing top 20 rows\n",
      "\n"
     ]
    }
   ],
   "source": [
    "df.orderBy(\"Country/Region\" , ascending = False).show()"
   ]
  },
  {
   "cell_type": "markdown",
   "id": "0b30c6e0",
   "metadata": {},
   "source": [
    "Groupby"
   ]
  },
  {
   "cell_type": "code",
   "execution_count": 13,
   "id": "02c784dd",
   "metadata": {},
   "outputs": [
    {
     "name": "stdout",
     "output_type": "stream",
     "text": [
      "+------+-----+\n",
      "|Deaths|count|\n",
      "+------+-----+\n",
      "|  4838|    1|\n",
      "|     7|    3|\n",
      "|    51|    2|\n",
      "|   124|    2|\n",
      "|   613|    1|\n",
      "|   711|    1|\n",
      "|    54|    1|\n",
      "|    15|    1|\n",
      "|   483|    1|\n",
      "|    11|    4|\n",
      "| 30212|    1|\n",
      "|   543|    1|\n",
      "|    69|    2|\n",
      "|   112|    1|\n",
      "|    42|    1|\n",
      "|    87|    1|\n",
      "|    64|    1|\n",
      "|     3|    2|\n",
      "|    34|    1|\n",
      "|    59|    1|\n",
      "+------+-----+\n",
      "only showing top 20 rows\n",
      "\n"
     ]
    }
   ],
   "source": [
    "df.groupBy(\"Deaths\").count().show()"
   ]
  },
  {
   "cell_type": "markdown",
   "id": "c2329115",
   "metadata": {},
   "source": [
    "MAX() MIN() SUM() AVG()"
   ]
  },
  {
   "cell_type": "code",
   "execution_count": 14,
   "id": "7018d062",
   "metadata": {},
   "outputs": [
    {
     "name": "stdout",
     "output_type": "stream",
     "text": [
      "+-----------+\n",
      "|sum(Deaths)|\n",
      "+-----------+\n",
      "|   654036.0|\n",
      "+-----------+\n",
      "\n",
      "+-----------+\n",
      "|max(Deaths)|\n",
      "+-----------+\n",
      "|        998|\n",
      "+-----------+\n",
      "\n",
      "+-----------+\n",
      "|min(Deaths)|\n",
      "+-----------+\n",
      "|          0|\n",
      "+-----------+\n",
      "\n",
      "+----------------+\n",
      "|     avg(Deaths)|\n",
      "+----------------+\n",
      "|3497.51871657754|\n",
      "+----------------+\n",
      "\n"
     ]
    }
   ],
   "source": [
    "df.agg({\"Deaths\" : \"sum\"}).show()\n",
    "df.agg({\"Deaths\" : \"max\"}).show()\n",
    "df.agg({\"Deaths\" : \"min\"}).show()\n",
    "df.agg({\"Deaths\" : \"avg\"}).show()"
   ]
  },
  {
   "cell_type": "code",
   "execution_count": 15,
   "id": "072838df",
   "metadata": {},
   "outputs": [
    {
     "name": "stdout",
     "output_type": "stream",
     "text": [
      "+-------+--------------+-----------------+-----------------+------------------+------------------+-----------------+------------------+-----------------+------------------+---------------------+----------------------+-------------------+-----------------+------------------+---------------+\n",
      "|summary|Country/Region|        Confirmed|           Deaths|         Recovered|            Active|        New cases|        New deaths|    New recovered|Deaths / 100 Cases|Recovered / 100 Cases|Deaths / 100 Recovered|Confirmed last week|    1 week change| 1 week % increase|     WHO Region|\n",
      "+-------+--------------+-----------------+-----------------+------------------+------------------+-----------------+------------------+-----------------+------------------+---------------------+----------------------+-------------------+-----------------+------------------+---------------+\n",
      "|  count|           187|              187|              187|               187|               187|              187|               187|              187|               187|                  187|                   187|                187|              187|               187|            187|\n",
      "|   mean|          NULL|  88130.935828877| 3497.51871657754| 50631.48128342246|   34001.935828877|1222.957219251337|  28.9572192513369| 933.812834224599|3.0195187165775392|    64.82053475935835|              Infinity|  78682.47593582887|9448.459893048128|13.606203208556153|           NULL|\n",
      "| stddev|          NULL|383318.6638306154|14100.00248201848|190188.18964313966|213326.17337142891|5710.374790280563|120.03717295550823|4197.719634688254| 3.454302488361351|   26.287694261858874|                   NaN| 338273.67656653706|47491.12768403526| 24.50983774445599|           NULL|\n",
      "|    min|   Afghanistan|               10|                0|                 0|                 0|                0|                 0|                0|               0.0|                  0.0|                   0.0|                 10|              -47|             -3.84|         Africa|\n",
      "|    max|      Zimbabwe|               99|              998|              9959|             98752|               94|                96|             9848|              8.13|                98.38|                   inf|              94693|              991|              9.66|Western Pacific|\n",
      "+-------+--------------+-----------------+-----------------+------------------+------------------+-----------------+------------------+-----------------+------------------+---------------------+----------------------+-------------------+-----------------+------------------+---------------+\n",
      "\n"
     ]
    }
   ],
   "source": [
    "df.describe().show()"
   ]
  }
 ],
 "metadata": {
  "kernelspec": {
   "display_name": "Python 3",
   "language": "python",
   "name": "python3"
  },
  "language_info": {
   "codemirror_mode": {
    "name": "ipython",
    "version": 3
   },
   "file_extension": ".py",
   "mimetype": "text/x-python",
   "name": "python",
   "nbconvert_exporter": "python",
   "pygments_lexer": "ipython3",
   "version": "3.11.1"
  }
 },
 "nbformat": 4,
 "nbformat_minor": 5
}

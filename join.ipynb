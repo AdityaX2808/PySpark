{
 "cells": [
  {
   "cell_type": "markdown",
   "id": "b63db1d0",
   "metadata": {},
   "source": [
    "###  JOINs in PySpark"
   ]
  },
  {
   "cell_type": "code",
   "execution_count": null,
   "id": "9ce6df9e",
   "metadata": {},
   "outputs": [
    {
     "name": "stdout",
     "output_type": "stream",
     "text": [
      "+---+--------------+-------------+----------+-----------------+-----------------------+--------------------+\n",
      "| id|Country/Region|    continent|      date|people_vaccinated|people_fully_vaccinated|            vaccines|\n",
      "+---+--------------+-------------+----------+-----------------+-----------------------+--------------------+\n",
      "|  1|  Saudi Arabia|         Asia|2021-10-17|         70783561|                5972689|             Sinovac|\n",
      "|  2|    Bangladesh|         Asia|2021-10-25|         64073369|               53898786|Covaxin, Pfizer/B...|\n",
      "|  3|         Spain|       Europe|2021-10-06|         27375400|                6855122|     Johnson&Johnson|\n",
      "|  4|         Spain|       Europe|2021-06-21|          6052875|                3749734|  Sputnik V, Sinovac|\n",
      "|  5|      Pakistan|         Asia|2021-05-19|         16705275|               11131841|             Sinovac|\n",
      "|  6|         China|         Asia|2021-08-01|          1118588|                 567664|    Covaxin, Sinovac|\n",
      "|  7|        Poland|       Europe|2021-02-07|         12730990|                3943798|Pfizer/BioNTech, ...|\n",
      "|  8|       Germany|       Europe|2021-02-27|         70266646|               61549360|Covaxin, Sputnik ...|\n",
      "|  9|         Spain|       Europe|2021-12-19|         43385560|               37256987|             Covaxin|\n",
      "| 10|        Canada|North America|2021-01-21|         51288147|               46269923|           Sputnik V|\n",
      "| 11|        Brazil|South America|2021-03-11|          6331469|                6115982|           Sputnik V|\n",
      "| 12|     Indonesia|         Asia|2021-10-24|         28890890|               11704274|AstraZeneca, Sino...|\n",
      "| 13|     Argentina|South America|2021-05-01|         87498223|               19919431|Pfizer/BioNTech, ...|\n",
      "| 14|        Canada|North America|2021-12-02|         12191646|                6194481|Sinopharm, Sputnik V|\n",
      "| 15|         Japan|         Asia|2021-11-09|         65427507|               37928242|Sinopharm, Sputni...|\n",
      "| 16|        Brazil|South America|2021-02-12|         58157358|               18433587|     Pfizer/BioNTech|\n",
      "| 17|        Russia|       Europe|2021-10-23|          4797788|                1718152|AstraZeneca, Pfiz...|\n",
      "| 18|         Japan|         Asia|2021-08-12|         19049924|               12161817|             Covaxin|\n",
      "| 19|    Bangladesh|         Asia|2021-01-26|         76653827|               30377028|Sputnik V, Johnso...|\n",
      "| 20|       Germany|       Europe|2021-08-06|         41114588|               38211701|AstraZeneca, Pfiz...|\n",
      "+---+--------------+-------------+----------+-----------------+-----------------------+--------------------+\n",
      "only showing top 20 rows\n",
      "\n"
     ]
    }
   ],
   "source": [
    "from pyspark.sql import SparkSession\n",
    "from pyspark.sql.functions import *\n",
    "spark = SparkSession.builder.appName(\"COVID join\").getOrCreate()\n",
    "df1 = spark.read.option(\"header\" , True).csv(\"D:\\projects\\BL_DE_Digit Insurance\\PostgressSQL\\data\\worldometer_data.csv\")\n",
    "df2 = spark.read.option(\"header\" , True).csv(\"D:\\projects\\BL_DE_Digit Insurance\\PostgressSQL\\data\\covid_vaccine.csv\")\n",
    "df1.show()\n",
    "df2.show()"
   ]
  },
  {
   "cell_type": "markdown",
   "id": "33429e7a",
   "metadata": {},
   "source": [
    "Inner Join"
   ]
  },
  {
   "cell_type": "code",
   "execution_count": 8,
   "id": "bd72d18f",
   "metadata": {},
   "outputs": [
    {
     "name": "stdout",
     "output_type": "stream",
     "text": [
      "+--------------+-------------+----------+----------+--------+-----------+---------+--------------+------------+-----------+----------------+----------------+-------------+----------+------------+--------------------+---+-------------+----------+-----------------+-----------------------+--------------------+\n",
      "|Country/Region|    Continent|Population|TotalCases|NewCases|TotalDeaths|NewDeaths|TotalRecovered|NewRecovered|ActiveCases|Serious,Critical|Tot Cases/1M pop|Deaths/1M pop|TotalTests|Tests/1M pop|          WHO Region| id|    continent|      date|people_vaccinated|people_fully_vaccinated|            vaccines|\n",
      "+--------------+-------------+----------+----------+--------+-----------+---------+--------------+------------+-----------+----------------+----------------+-------------+----------+------------+--------------------+---+-------------+----------+-----------------+-----------------------+--------------------+\n",
      "|           USA|North America| 331198130|   5032179|    NULL|     162804|     NULL|       2576668|        NULL|    2292707|           18296|           15194|          492|  63139605|      190640|            Americas| 22|North America|2021-05-29|         84680725|               42306270|             Moderna|\n",
      "|            UK|       Europe|  67922029|    308134|    NULL|      46413|     NULL|          NULL|        NULL|       NULL|              73|            4537|          683|  17515234|      257873|              Europe| 26|       Europe|2021-11-26|         35362806|               28228997|         AstraZeneca|\n",
      "|        Turkey|         Asia|  84428331|    237265|    NULL|       5798|     NULL|        220546|        NULL|      10921|             580|            2810|           69|   5081802|       60191|              Europe| 40|         Asia|2021-06-19|         35598997|                1454306|Moderna, Sputnik ...|\n",
      "|        Turkey|         Asia|  84428331|    237265|    NULL|       5798|     NULL|        220546|        NULL|      10921|             580|            2810|           69|   5081802|       60191|              Europe| 27|         Asia|2021-11-15|         49835591|               14970394|    Covaxin, Sinovac|\n",
      "|        Turkey|         Asia|  84428331|    237265|    NULL|       5798|     NULL|        220546|        NULL|      10921|             580|            2810|           69|   5081802|       60191|              Europe| 43|         Asia|2021-06-02|         16299327|                5128772|Pfizer/BioNTech, ...|\n",
      "|        Turkey|         Asia|  84428331|    237265|    NULL|       5798|     NULL|        220546|        NULL|      10921|             580|            2810|           69|   5081802|       60191|              Europe| 31|         Asia|2021-08-12|          1091404|                 727267|    Covaxin, Moderna|\n",
      "|        Turkey|         Asia|  84428331|    237265|    NULL|       5798|     NULL|        220546|        NULL|      10921|             580|            2810|           69|   5081802|       60191|              Europe| 23|         Asia|2021-07-19|         66337264|               30576406|AstraZeneca, Sput...|\n",
      "|         Spain|       Europe|  46756648|    354530|    NULL|      28500|     NULL|          NULL|        NULL|       NULL|             617|            7582|          610|   7064329|      151087|              Europe| 48|       Europe|2021-02-22|         42612654|               25203540|             Moderna|\n",
      "|         Spain|       Europe|  46756648|    354530|    NULL|      28500|     NULL|          NULL|        NULL|       NULL|             617|            7582|          610|   7064329|      151087|              Europe|  9|       Europe|2021-12-19|         43385560|               37256987|             Covaxin|\n",
      "|         Spain|       Europe|  46756648|    354530|    NULL|      28500|     NULL|          NULL|        NULL|       NULL|             617|            7582|          610|   7064329|      151087|              Europe|  4|       Europe|2021-06-21|          6052875|                3749734|  Sputnik V, Sinovac|\n",
      "|         Spain|       Europe|  46756648|    354530|    NULL|      28500|     NULL|          NULL|        NULL|       NULL|             617|            7582|          610|   7064329|      151087|              Europe|  3|       Europe|2021-10-06|         27375400|                6855122|     Johnson&Johnson|\n",
      "|  South Africa|       Africa|  59381566|    538184|    NULL|       9604|     NULL|        387316|        NULL|     141264|             539|            9063|          162|   3149807|       53044|              Africa| 46|       Africa|2021-10-21|         57351756|               23461332|Johnson&Johnson, ...|\n",
      "|  Saudi Arabia|         Asia|  34865919|    284226|    NULL|       3055|     NULL|        247089|        NULL|      34082|            1915|            8152|           88|   3635705|      104277|EasternMediterranean| 21|         Asia|2021-01-01|         44943004|               31683515|AstraZeneca, Sino...|\n",
      "|  Saudi Arabia|         Asia|  34865919|    284226|    NULL|       3055|     NULL|        247089|        NULL|      34082|            1915|            8152|           88|   3635705|      104277|EasternMediterranean|  1|         Asia|2021-10-17|         70783561|                5972689|             Sinovac|\n",
      "|        Russia|       Europe| 145940924|    871894|    NULL|      14606|     NULL|        676357|        NULL|     180931|            2300|            5974|          100|  29716907|      203623|              Europe| 17|       Europe|2021-10-23|          4797788|                1718152|AstraZeneca, Pfiz...|\n",
      "|        Russia|       Europe| 145940924|    871894|    NULL|      14606|     NULL|        676357|        NULL|     180931|            2300|            5974|          100|  29716907|      203623|              Europe| 42|       Europe|2021-06-03|         66010200|               56869730|    Sinovac, Covaxin|\n",
      "|        Poland|       Europe|  37842302|     49515|    NULL|       1774|     NULL|         35642|        NULL|      12099|              72|            1308|           47|   2374686|       62752|              Europe|  7|       Europe|2021-02-07|         12730990|                3943798|Pfizer/BioNTech, ...|\n",
      "|      Pakistan|         Asia| 221295851|    281863|    NULL|       6035|     NULL|        256058|        NULL|      19770|             809|            1274|           27|   2058872|        9304|EasternMediterranean|  5|         Asia|2021-05-19|         16705275|               11131841|             Sinovac|\n",
      "|      Pakistan|         Asia| 221295851|    281863|    NULL|       6035|     NULL|        256058|        NULL|      19770|             809|            1274|           27|   2058872|        9304|EasternMediterranean| 50|         Asia|2021-02-19|         38101232|                5792846|Covaxin, Sinophar...|\n",
      "|      Pakistan|         Asia| 221295851|    281863|    NULL|       6035|     NULL|        256058|        NULL|      19770|             809|            1274|           27|   2058872|        9304|EasternMediterranean| 47|         Asia|2021-08-20|         50012098|               11793523|Johnson&Johnson, ...|\n",
      "+--------------+-------------+----------+----------+--------+-----------+---------+--------------+------------+-----------+----------------+----------------+-------------+----------+------------+--------------------+---+-------------+----------+-----------------+-----------------------+--------------------+\n",
      "only showing top 20 rows\n",
      "\n"
     ]
    }
   ],
   "source": [
    "df_inner = df1.join(df2 , \"Country/Region\" , \"inner\")\n",
    "df_inner.orderBy(\"Country/Region\" , ascending = False).show()"
   ]
  },
  {
   "cell_type": "markdown",
   "id": "68408f0f",
   "metadata": {},
   "source": [
    "LEFT JOIN"
   ]
  },
  {
   "cell_type": "code",
   "execution_count": 9,
   "id": "9f3cf664",
   "metadata": {},
   "outputs": [
    {
     "name": "stdout",
     "output_type": "stream",
     "text": [
      "+--------------+-------------+----------+----------+--------+-----------+---------+--------------+------------+-----------+----------------+----------------+-------------+----------+------------+--------------------+----+-------------+----------+-----------------+-----------------------+--------------------+\n",
      "|Country/Region|    Continent|Population|TotalCases|NewCases|TotalDeaths|NewDeaths|TotalRecovered|NewRecovered|ActiveCases|Serious,Critical|Tot Cases/1M pop|Deaths/1M pop|TotalTests|Tests/1M pop|          WHO Region|  id|    continent|      date|people_vaccinated|people_fully_vaccinated|            vaccines|\n",
      "+--------------+-------------+----------+----------+--------+-----------+---------+--------------+------------+-----------+----------------+----------------+-------------+----------+------------+--------------------+----+-------------+----------+-----------------+-----------------------+--------------------+\n",
      "|           USA|North America| 331198130|   5032179|    NULL|     162804|     NULL|       2576668|        NULL|    2292707|           18296|           15194|          492|  63139605|      190640|            Americas|  22|North America|2021-05-29|         84680725|               42306270|             Moderna|\n",
      "|        Brazil|South America| 212710692|   2917562|    NULL|      98644|     NULL|       2047660|        NULL|     771258|            8318|           13716|          464|  13206188|       62085|            Americas|  45|South America|2021-05-27|         71790510|                3197396|    Moderna, Sinovac|\n",
      "|        Brazil|South America| 212710692|   2917562|    NULL|      98644|     NULL|       2047660|        NULL|     771258|            8318|           13716|          464|  13206188|       62085|            Americas|  16|South America|2021-02-12|         58157358|               18433587|     Pfizer/BioNTech|\n",
      "|        Brazil|South America| 212710692|   2917562|    NULL|      98644|     NULL|       2047660|        NULL|     771258|            8318|           13716|          464|  13206188|       62085|            Americas|  11|South America|2021-03-11|          6331469|                6115982|           Sputnik V|\n",
      "|         India|         Asia|1381344997|   2025409|    NULL|      41638|     NULL|       1377384|        NULL|     606387|            8944|            1466|           30|  22149351|       16035|      South-EastAsia|NULL|         NULL|      NULL|             NULL|                   NULL|                NULL|\n",
      "|        Russia|       Europe| 145940924|    871894|    NULL|      14606|     NULL|        676357|        NULL|     180931|            2300|            5974|          100|  29716907|      203623|              Europe|  42|       Europe|2021-06-03|         66010200|               56869730|    Sinovac, Covaxin|\n",
      "|        Russia|       Europe| 145940924|    871894|    NULL|      14606|     NULL|        676357|        NULL|     180931|            2300|            5974|          100|  29716907|      203623|              Europe|  17|       Europe|2021-10-23|          4797788|                1718152|AstraZeneca, Pfiz...|\n",
      "|  South Africa|       Africa|  59381566|    538184|    NULL|       9604|     NULL|        387316|        NULL|     141264|             539|            9063|          162|   3149807|       53044|              Africa|  46|       Africa|2021-10-21|         57351756|               23461332|Johnson&Johnson, ...|\n",
      "|        Mexico|North America| 129066160|    462690|    6590|      50517|      819|        308848|        4140|     103325|            3987|            3585|          391|   1056915|        8189|            Americas|NULL|         NULL|      NULL|             NULL|                   NULL|                NULL|\n",
      "|          Peru|South America|  33016319|    455409|    NULL|      20424|     NULL|        310337|        NULL|     124648|            1426|           13793|          619|   2493429|       75521|            Americas|NULL|         NULL|      NULL|             NULL|                   NULL|                NULL|\n",
      "|         Chile|South America|  19132514|    366671|    NULL|       9889|     NULL|        340168|        NULL|      16614|            1358|           19165|          517|   1760615|       92022|            Americas|NULL|         NULL|      NULL|             NULL|                   NULL|                NULL|\n",
      "|      Colombia|South America|  50936262|    357710|    NULL|      11939|     NULL|        192355|        NULL|     153416|            1493|            7023|          234|   1801835|       35374|            Americas|NULL|         NULL|      NULL|             NULL|                   NULL|                NULL|\n",
      "|         Spain|       Europe|  46756648|    354530|    NULL|      28500|     NULL|          NULL|        NULL|       NULL|             617|            7582|          610|   7064329|      151087|              Europe|  48|       Europe|2021-02-22|         42612654|               25203540|             Moderna|\n",
      "|         Spain|       Europe|  46756648|    354530|    NULL|      28500|     NULL|          NULL|        NULL|       NULL|             617|            7582|          610|   7064329|      151087|              Europe|   9|       Europe|2021-12-19|         43385560|               37256987|             Covaxin|\n",
      "|         Spain|       Europe|  46756648|    354530|    NULL|      28500|     NULL|          NULL|        NULL|       NULL|             617|            7582|          610|   7064329|      151087|              Europe|   4|       Europe|2021-06-21|          6052875|                3749734|  Sputnik V, Sinovac|\n",
      "|         Spain|       Europe|  46756648|    354530|    NULL|      28500|     NULL|          NULL|        NULL|       NULL|             617|            7582|          610|   7064329|      151087|              Europe|   3|       Europe|2021-10-06|         27375400|                6855122|     Johnson&Johnson|\n",
      "|          Iran|         Asia|  84097623|    320117|    NULL|      17976|     NULL|        277463|        NULL|      24678|            4156|            3806|          214|   2612763|       31068|EasternMediterranean|NULL|         NULL|      NULL|             NULL|                   NULL|                NULL|\n",
      "|            UK|       Europe|  67922029|    308134|    NULL|      46413|     NULL|          NULL|        NULL|       NULL|              73|            4537|          683|  17515234|      257873|              Europe|  26|       Europe|2021-11-26|         35362806|               28228997|         AstraZeneca|\n",
      "|  Saudi Arabia|         Asia|  34865919|    284226|    NULL|       3055|     NULL|        247089|        NULL|      34082|            1915|            8152|           88|   3635705|      104277|EasternMediterranean|  21|         Asia|2021-01-01|         44943004|               31683515|AstraZeneca, Sino...|\n",
      "|  Saudi Arabia|         Asia|  34865919|    284226|    NULL|       3055|     NULL|        247089|        NULL|      34082|            1915|            8152|           88|   3635705|      104277|EasternMediterranean|   1|         Asia|2021-10-17|         70783561|                5972689|             Sinovac|\n",
      "+--------------+-------------+----------+----------+--------+-----------+---------+--------------+------------+-----------+----------------+----------------+-------------+----------+------------+--------------------+----+-------------+----------+-----------------+-----------------------+--------------------+\n",
      "only showing top 20 rows\n",
      "\n"
     ]
    }
   ],
   "source": [
    "df_left = df1.join(df2 , \"Country/Region\" , \"left\")\n",
    "df_left.show()"
   ]
  },
  {
   "cell_type": "markdown",
   "id": "3c6e84df",
   "metadata": {},
   "source": [
    "RIGHT JOIN"
   ]
  },
  {
   "cell_type": "code",
   "execution_count": 10,
   "id": "6c92c892",
   "metadata": {},
   "outputs": [
    {
     "name": "stdout",
     "output_type": "stream",
     "text": [
      "+--------------+-------------+----------+----------+--------+-----------+---------+--------------+------------+-----------+----------------+----------------+-------------+----------+------------+--------------------+---+-------------+----------+-----------------+-----------------------+--------------------+\n",
      "|Country/Region|    Continent|Population|TotalCases|NewCases|TotalDeaths|NewDeaths|TotalRecovered|NewRecovered|ActiveCases|Serious,Critical|Tot Cases/1M pop|Deaths/1M pop|TotalTests|Tests/1M pop|          WHO Region| id|    continent|      date|people_vaccinated|people_fully_vaccinated|            vaccines|\n",
      "+--------------+-------------+----------+----------+--------+-----------+---------+--------------+------------+-----------+----------------+----------------+-------------+----------+------------+--------------------+---+-------------+----------+-----------------+-----------------------+--------------------+\n",
      "|  Saudi Arabia|         Asia|  34865919|    284226|    NULL|       3055|     NULL|        247089|        NULL|      34082|            1915|            8152|           88|   3635705|      104277|EasternMediterranean|  1|         Asia|2021-10-17|         70783561|                5972689|             Sinovac|\n",
      "|    Bangladesh|         Asia| 164851401|    249651|    NULL|       3306|     NULL|        143824|        NULL|     102521|            NULL|            1514|           20|   1225124|        7432|      South-EastAsia|  2|         Asia|2021-10-25|         64073369|               53898786|Covaxin, Pfizer/B...|\n",
      "|         Spain|       Europe|  46756648|    354530|    NULL|      28500|     NULL|          NULL|        NULL|       NULL|             617|            7582|          610|   7064329|      151087|              Europe|  3|       Europe|2021-10-06|         27375400|                6855122|     Johnson&Johnson|\n",
      "|         Spain|       Europe|  46756648|    354530|    NULL|      28500|     NULL|          NULL|        NULL|       NULL|             617|            7582|          610|   7064329|      151087|              Europe|  4|       Europe|2021-06-21|          6052875|                3749734|  Sputnik V, Sinovac|\n",
      "|      Pakistan|         Asia| 221295851|    281863|    NULL|       6035|     NULL|        256058|        NULL|      19770|             809|            1274|           27|   2058872|        9304|EasternMediterranean|  5|         Asia|2021-05-19|         16705275|               11131841|             Sinovac|\n",
      "|         China|         NULL|      NULL|      NULL|    NULL|       NULL|     NULL|          NULL|        NULL|       NULL|            NULL|            NULL|         NULL|      NULL|        NULL|                NULL|  6|         Asia|2021-08-01|          1118588|                 567664|    Covaxin, Sinovac|\n",
      "|        Poland|       Europe|  37842302|     49515|    NULL|       1774|     NULL|         35642|        NULL|      12099|              72|            1308|           47|   2374686|       62752|              Europe|  7|       Europe|2021-02-07|         12730990|                3943798|Pfizer/BioNTech, ...|\n",
      "|       Germany|       Europe|  83811260|    215210|    NULL|       9252|     NULL|        196200|        NULL|       9758|             236|            2568|          110|   8586648|      102452|              Europe|  8|       Europe|2021-02-27|         70266646|               61549360|Covaxin, Sputnik ...|\n",
      "|         Spain|       Europe|  46756648|    354530|    NULL|      28500|     NULL|          NULL|        NULL|       NULL|             617|            7582|          610|   7064329|      151087|              Europe|  9|       Europe|2021-12-19|         43385560|               37256987|             Covaxin|\n",
      "|        Canada|North America|  37775022|    118561|    NULL|       8966|     NULL|        103106|        NULL|       6489|            2263|            3139|          237|   4319172|      114339|            Americas| 10|North America|2021-01-21|         51288147|               46269923|           Sputnik V|\n",
      "|        Brazil|South America| 212710692|   2917562|    NULL|      98644|     NULL|       2047660|        NULL|     771258|            8318|           13716|          464|  13206188|       62085|            Americas| 11|South America|2021-03-11|          6331469|                6115982|           Sputnik V|\n",
      "|     Indonesia|         Asia| 273808365|    118753|    NULL|       5521|     NULL|         75645|        NULL|      37587|            NULL|             434|           20|   1633156|        5965|      South-EastAsia| 12|         Asia|2021-10-24|         28890890|               11704274|AstraZeneca, Sino...|\n",
      "|     Argentina|South America|  45236884|    228195|    NULL|       4251|     NULL|         99852|        NULL|     124092|            1150|            5044|           94|    794544|       17564|            Americas| 13|South America|2021-05-01|         87498223|               19919431|Pfizer/BioNTech, ...|\n",
      "|        Canada|North America|  37775022|    118561|    NULL|       8966|     NULL|        103106|        NULL|       6489|            2263|            3139|          237|   4319172|      114339|            Americas| 14|North America|2021-12-02|         12191646|                6194481|Sinopharm, Sputnik V|\n",
      "|         Japan|         Asia| 126435859|     42263|    NULL|       1026|     NULL|         28877|        NULL|      12360|             115|             334|            8|    938739|        7425|      WesternPacific| 15|         Asia|2021-11-09|         65427507|               37928242|Sinopharm, Sputni...|\n",
      "|        Brazil|South America| 212710692|   2917562|    NULL|      98644|     NULL|       2047660|        NULL|     771258|            8318|           13716|          464|  13206188|       62085|            Americas| 16|South America|2021-02-12|         58157358|               18433587|     Pfizer/BioNTech|\n",
      "|        Russia|       Europe| 145940924|    871894|    NULL|      14606|     NULL|        676357|        NULL|     180931|            2300|            5974|          100|  29716907|      203623|              Europe| 17|       Europe|2021-10-23|          4797788|                1718152|AstraZeneca, Pfiz...|\n",
      "|         Japan|         Asia| 126435859|     42263|    NULL|       1026|     NULL|         28877|        NULL|      12360|             115|             334|            8|    938739|        7425|      WesternPacific| 18|         Asia|2021-08-12|         19049924|               12161817|             Covaxin|\n",
      "|    Bangladesh|         Asia| 164851401|    249651|    NULL|       3306|     NULL|        143824|        NULL|     102521|            NULL|            1514|           20|   1225124|        7432|      South-EastAsia| 19|         Asia|2021-01-26|         76653827|               30377028|Sputnik V, Johnso...|\n",
      "|       Germany|       Europe|  83811260|    215210|    NULL|       9252|     NULL|        196200|        NULL|       9758|             236|            2568|          110|   8586648|      102452|              Europe| 20|       Europe|2021-08-06|         41114588|               38211701|AstraZeneca, Pfiz...|\n",
      "+--------------+-------------+----------+----------+--------+-----------+---------+--------------+------------+-----------+----------------+----------------+-------------+----------+------------+--------------------+---+-------------+----------+-----------------+-----------------------+--------------------+\n",
      "only showing top 20 rows\n",
      "\n"
     ]
    }
   ],
   "source": [
    "df_right = df1.join(df2 , \"Country/Region\" , \"right\")\n",
    "df_right.show()"
   ]
  },
  {
   "cell_type": "markdown",
   "id": "3e009957",
   "metadata": {},
   "source": [
    "FULL OUTER JOIN"
   ]
  },
  {
   "cell_type": "code",
   "execution_count": 11,
   "id": "eb6137bd",
   "metadata": {},
   "outputs": [
    {
     "name": "stdout",
     "output_type": "stream",
     "text": [
      "+-------------------+-----------------+----------+----------+--------+-----------+---------+--------------+------------+-----------+----------------+----------------+-------------+----------+------------+--------------------+----+-------------+----------+-----------------+-----------------------+--------------------+\n",
      "|     Country/Region|        Continent|Population|TotalCases|NewCases|TotalDeaths|NewDeaths|TotalRecovered|NewRecovered|ActiveCases|Serious,Critical|Tot Cases/1M pop|Deaths/1M pop|TotalTests|Tests/1M pop|          WHO Region|  id|    continent|      date|people_vaccinated|people_fully_vaccinated|            vaccines|\n",
      "+-------------------+-----------------+----------+----------+--------+-----------+---------+--------------+------------+-----------+----------------+----------------+-------------+----------+------------+--------------------+----+-------------+----------+-----------------+-----------------------+--------------------+\n",
      "|        Afghanistan|             Asia|  39009447|     36896|    NULL|       1298|     NULL|         25840|        NULL|       9758|              31|             946|           33|     90396|        2317|EasternMediterranean|NULL|         NULL|      NULL|             NULL|                   NULL|                NULL|\n",
      "|            Albania|           Europe|   2877470|      6016|    NULL|        188|     NULL|          3155|        NULL|       2673|              23|            2091|           65|     38997|       13553|              Europe|NULL|         NULL|      NULL|             NULL|                   NULL|                NULL|\n",
      "|            Algeria|           Africa|  43926079|     33626|    NULL|       1273|     NULL|         23238|        NULL|       9115|              57|             766|           29|      NULL|        NULL|              Africa|NULL|         NULL|      NULL|             NULL|                   NULL|                NULL|\n",
      "|            Andorra|           Europe|     77278|       944|    NULL|         52|     NULL|           828|        NULL|         64|               1|           12216|          673|      3750|       48526|              Europe|NULL|         NULL|      NULL|             NULL|                   NULL|                NULL|\n",
      "|             Angola|           Africa|  32956300|      1483|    NULL|         64|     NULL|           520|        NULL|        899|              20|              45|            2|     64747|        1965|              Africa|NULL|         NULL|      NULL|             NULL|                   NULL|                NULL|\n",
      "|Antigua and Barbuda|    North America|     98010|        92|    NULL|          3|     NULL|            76|        NULL|         13|               1|             939|           31|      1500|       15305|            Americas|NULL|         NULL|      NULL|             NULL|                   NULL|                NULL|\n",
      "|          Argentina|    South America|  45236884|    228195|    NULL|       4251|     NULL|         99852|        NULL|     124092|            1150|            5044|           94|    794544|       17564|            Americas|  13|South America|2021-05-01|         87498223|               19919431|Pfizer/BioNTech, ...|\n",
      "|          Argentina|    South America|  45236884|    228195|    NULL|       4251|     NULL|         99852|        NULL|     124092|            1150|            5044|           94|    794544|       17564|            Americas|  33|South America|2021-12-20|          8622110|                2992946|             Sinovac|\n",
      "|            Armenia|             Asia|   2963811|     39819|    NULL|        772|     NULL|         31556|        NULL|       7491|            NULL|           13435|          260|    171600|       57898|              Europe|NULL|         NULL|      NULL|             NULL|                   NULL|                NULL|\n",
      "|              Aruba|    North America|    106812|       263|    NULL|          3|     NULL|           114|        NULL|        146|            NULL|            2462|           28|     14047|      131511|                NULL|NULL|         NULL|      NULL|             NULL|                   NULL|                NULL|\n",
      "|          Australia|Australia/Oceania|  25528864|     19890|    NULL|        255|     NULL|         10941|        NULL|       8694|              52|             779|           10|   4631419|      181419|      WesternPacific|NULL|         NULL|      NULL|             NULL|                   NULL|                NULL|\n",
      "|            Austria|           Europe|   9011577|     21696|    NULL|        719|     NULL|         19596|        NULL|       1381|              25|            2408|           80|    937275|      104008|              Europe|NULL|         NULL|      NULL|             NULL|                   NULL|                NULL|\n",
      "|         Azerbaijan|             Asia|  10148243|     33247|    NULL|        479|     NULL|         29275|        NULL|       3493|              66|            3276|           47|    766179|       75499|              Europe|NULL|         NULL|      NULL|             NULL|                   NULL|                NULL|\n",
      "|            Bahamas|    North America|    393616|       761|    NULL|         14|     NULL|            91|        NULL|        656|               1|            1933|           36|      4814|       12230|            Americas|NULL|         NULL|      NULL|             NULL|                   NULL|                NULL|\n",
      "|            Bahrain|             Asia|   1706669|     42889|    NULL|        156|     NULL|         39945|        NULL|       2788|              41|           25130|           91|    876700|      513691|EasternMediterranean|NULL|         NULL|      NULL|             NULL|                   NULL|                NULL|\n",
      "|         Bangladesh|             Asia| 164851401|    249651|    NULL|       3306|     NULL|        143824|        NULL|     102521|            NULL|            1514|           20|   1225124|        7432|      South-EastAsia|   2|         Asia|2021-10-25|         64073369|               53898786|Covaxin, Pfizer/B...|\n",
      "|         Bangladesh|             Asia| 164851401|    249651|    NULL|       3306|     NULL|        143824|        NULL|     102521|            NULL|            1514|           20|   1225124|        7432|      South-EastAsia|  19|         Asia|2021-01-26|         76653827|               30377028|Sputnik V, Johnso...|\n",
      "|           Barbados|    North America|    287411|       133|    NULL|          7|     NULL|           100|        NULL|         26|            NULL|             463|           24|     12233|       42563|            Americas|NULL|         NULL|      NULL|             NULL|                   NULL|                NULL|\n",
      "|            Belarus|           Europe|   9449001|     68503|    NULL|        580|     NULL|         63756|        NULL|       4167|            NULL|            7250|           61|   1344303|      142269|              Europe|NULL|         NULL|      NULL|             NULL|                   NULL|                NULL|\n",
      "|            Belgium|           Europe|  11594739|     71158|    NULL|       9859|     NULL|         17661|        NULL|      43638|              61|            6137|          850|   1767120|      152407|              Europe|NULL|         NULL|      NULL|             NULL|                   NULL|                NULL|\n",
      "+-------------------+-----------------+----------+----------+--------+-----------+---------+--------------+------------+-----------+----------------+----------------+-------------+----------+------------+--------------------+----+-------------+----------+-----------------+-----------------------+--------------------+\n",
      "only showing top 20 rows\n",
      "\n"
     ]
    }
   ],
   "source": [
    "df_full = df1.join(df2 , \"Country/Region\" , \"outer\")\n",
    "df_full.show()"
   ]
  }
 ],
 "metadata": {
  "kernelspec": {
   "display_name": "Python 3",
   "language": "python",
   "name": "python3"
  },
  "language_info": {
   "codemirror_mode": {
    "name": "ipython",
    "version": 3
   },
   "file_extension": ".py",
   "mimetype": "text/x-python",
   "name": "python",
   "nbconvert_exporter": "python",
   "pygments_lexer": "ipython3",
   "version": "3.11.1"
  }
 },
 "nbformat": 4,
 "nbformat_minor": 5
}
